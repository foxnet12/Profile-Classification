{
 "cells": [
  {
   "cell_type": "code",
   "execution_count": 1,
   "id": "ce04fe61",
   "metadata": {},
   "outputs": [],
   "source": [
    "import tensorflow as tf\n",
    "from tensorflow.keras.datasets import cifar10\n",
    "from tensorflow.keras.models import Sequential\n",
    "from tensorflow.keras.layers import Conv2D, MaxPooling2D, Flatten, Dense, Dropout\n",
    "from tensorflow.keras.utils import to_categorical"
   ]
  },
  {
   "cell_type": "markdown",
   "id": "bd711958",
   "metadata": {},
   "source": [
    "## Load the CIFAR-10 dataset\n"
   ]
  },
  {
   "cell_type": "code",
   "execution_count": 2,
   "id": "b975362a",
   "metadata": {},
   "outputs": [],
   "source": [
    "(x_train, y_train), (x_test, y_test) = cifar10.load_data()"
   ]
  },
  {
   "cell_type": "code",
   "execution_count": 3,
   "id": "2c73cee9",
   "metadata": {},
   "outputs": [],
   "source": [
    "x_train = x_train.astype('float32') / 255.0\n",
    "x_test = x_test.astype('float32') / 255.0\n",
    "y_train = to_categorical(y_train, num_classes=10)\n",
    "y_test = to_categorical(y_test, num_classes=10)"
   ]
  },
  {
   "cell_type": "markdown",
   "id": "5e017c16",
   "metadata": {},
   "source": [
    "## CNN model"
   ]
  },
  {
   "cell_type": "code",
   "execution_count": 4,
   "id": "1ff0d459",
   "metadata": {},
   "outputs": [],
   "source": [
    "model = Sequential()\n",
    "model.add(Conv2D(32, (3, 3), activation='relu', padding='same', input_shape=(32, 32, 3)))\n",
    "model.add(Conv2D(32, (3, 3), activation='relu'))\n",
    "model.add(MaxPooling2D(pool_size=(2, 2)))\n",
    "model.add(Dropout(0.25))"
   ]
  },
  {
   "cell_type": "code",
   "execution_count": 5,
   "id": "4dc936cd",
   "metadata": {},
   "outputs": [],
   "source": [
    "model.add(Conv2D(64, (3, 3), activation='relu', padding='same'))\n",
    "model.add(Conv2D(64, (3, 3), activation='relu'))\n",
    "model.add(MaxPooling2D(pool_size=(2, 2)))\n",
    "model.add(Dropout(0.25))"
   ]
  },
  {
   "cell_type": "code",
   "execution_count": 6,
   "id": "438c1a59",
   "metadata": {},
   "outputs": [],
   "source": [
    "model.add(Flatten())\n",
    "model.add(Dense(512, activation='relu'))\n",
    "model.add(Dropout(0.5))\n",
    "model.add(Dense(10, activation='softmax'))"
   ]
  },
  {
   "cell_type": "markdown",
   "id": "82e40082",
   "metadata": {},
   "source": [
    "## train the model"
   ]
  },
  {
   "cell_type": "code",
   "execution_count": 8,
   "id": "bf12b4ac",
   "metadata": {},
   "outputs": [
    {
     "name": "stdout",
     "output_type": "stream",
     "text": [
      "Epoch 1/10\n",
      "391/391 [==============================] - 82s 208ms/step - loss: 1.6160 - accuracy: 0.4069 - val_loss: 1.3076 - val_accuracy: 0.5321\n",
      "Epoch 2/10\n",
      "391/391 [==============================] - 80s 205ms/step - loss: 1.2148 - accuracy: 0.5663 - val_loss: 1.0102 - val_accuracy: 0.6406\n",
      "Epoch 3/10\n",
      "391/391 [==============================] - 77s 198ms/step - loss: 1.0260 - accuracy: 0.6375 - val_loss: 0.8838 - val_accuracy: 0.6898\n",
      "Epoch 4/10\n",
      "391/391 [==============================] - 80s 205ms/step - loss: 0.9055 - accuracy: 0.6817 - val_loss: 0.8066 - val_accuracy: 0.7190\n",
      "Epoch 5/10\n",
      "391/391 [==============================] - 84s 214ms/step - loss: 0.8281 - accuracy: 0.7093 - val_loss: 0.7460 - val_accuracy: 0.7369\n",
      "Epoch 6/10\n",
      "391/391 [==============================] - 84s 214ms/step - loss: 0.7621 - accuracy: 0.7324 - val_loss: 0.7056 - val_accuracy: 0.7550\n",
      "Epoch 7/10\n",
      "391/391 [==============================] - 88s 224ms/step - loss: 0.7094 - accuracy: 0.7518 - val_loss: 0.6908 - val_accuracy: 0.7567\n",
      "Epoch 8/10\n",
      "391/391 [==============================] - 93s 237ms/step - loss: 0.6665 - accuracy: 0.7674 - val_loss: 0.6708 - val_accuracy: 0.7677\n",
      "Epoch 9/10\n",
      "391/391 [==============================] - 612s 2s/step - loss: 0.6338 - accuracy: 0.7784 - val_loss: 0.6891 - val_accuracy: 0.7641\n",
      "Epoch 10/10\n",
      "391/391 [==============================] - 105s 268ms/step - loss: 0.6060 - accuracy: 0.7877 - val_loss: 0.6441 - val_accuracy: 0.7791\n"
     ]
    },
    {
     "data": {
      "text/plain": [
       "<keras.callbacks.History at 0x2c4020e22b0>"
      ]
     },
     "execution_count": 8,
     "metadata": {},
     "output_type": "execute_result"
    }
   ],
   "source": [
    "model.compile(optimizer='adam', loss='categorical_crossentropy', metrics=['accuracy'])\n",
    "model.fit(x_train, y_train, batch_size=128, epochs=10, validation_data=(x_test, y_test))"
   ]
  },
  {
   "cell_type": "markdown",
   "id": "8cb15a97",
   "metadata": {},
   "source": [
    "## Result"
   ]
  },
  {
   "cell_type": "code",
   "execution_count": 9,
   "id": "a92dd1ff",
   "metadata": {},
   "outputs": [
    {
     "name": "stdout",
     "output_type": "stream",
     "text": [
      "313/313 [==============================] - 5s 16ms/step - loss: 0.6441 - accuracy: 0.7791\n",
      "Test loss: 0.6441222429275513\n",
      "Test accuracy: 0.7791000008583069\n"
     ]
    }
   ],
   "source": [
    "loss, accuracy = model.evaluate(x_test, y_test)\n",
    "print('Test loss:', loss)\n",
    "print('Test accuracy:', accuracy)"
   ]
  }
 ],
 "metadata": {
  "kernelspec": {
   "display_name": "Python 3 (ipykernel)",
   "language": "python",
   "name": "python3"
  },
  "language_info": {
   "codemirror_mode": {
    "name": "ipython",
    "version": 3
   },
   "file_extension": ".py",
   "mimetype": "text/x-python",
   "name": "python",
   "nbconvert_exporter": "python",
   "pygments_lexer": "ipython3",
   "version": "3.9.7"
  }
 },
 "nbformat": 4,
 "nbformat_minor": 5
}
